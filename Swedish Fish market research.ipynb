{
 "cells": [
  {
   "cell_type": "code",
   "execution_count": 2,
   "id": "7383753d",
   "metadata": {},
   "outputs": [
    {
     "name": "stdout",
     "output_type": "stream",
     "text": [
      "Probability that Method A is better than telemarketing: 0.9655754303071211\n"
     ]
    },
    {
     "data": {
      "image/png": "[encoded data removed]",
      "text/plain": [
       "<Figure size 432x288 with 1 Axes>"
      ]
     },
     "metadata": {
      "needs_background": "light"
     },
     "output_type": "display_data"
    }
   ],
   "source": [
    "import pandas as pd\n",
    "import numpy as np\n",
    "\n",
    "n_draw = 50000\n",
    "sample = 16\n",
    "prior_rate = pd.Series(np.random.uniform(0, 1, size = n_draw)) \n",
    "def gen_model(prob):\n",
    "    return(np.random.binomial(sample, prob))\n",
    "subscribers = list()\n",
    "for p in prior_rate:\n",
    "    subscribers.append(gen_model(p))\n",
    "observed_data = 6\n",
    "post_rate = prior_rate[list(map(lambda x: x == observed_data, subscribers))]\n",
    "\n",
    "post_rate.hist()\n",
    "print('Probability that Method A is better than telemarketing:', sum(post_rate > 0.2) / len(post_rate))"
   ]
  },
  {
   "cell_type": "code",
   "execution_count": 3,
   "id": "b5b473a2",
   "metadata": {},
   "outputs": [
    {
     "name": "stdout",
     "output_type": "stream",
     "text": [
      "If Method A was used on 500 people the likely number of sign-ups would be: 191\n",
      "\n",
      "Number of draws left: 2963, Posterior mean: 192.720, Posterior 95% quantile interval: 91.000-306.950\n"
     ]
    },
    {
     "data": {
      "image/png": "[encoded data removed]",
      "text/plain": [
       "<Figure size 432x288 with 1 Axes>"
      ]
     },
     "metadata": {
      "needs_background": "light"
     },
     "output_type": "display_data"
    }
   ],
   "source": [
    "import matplotlib.pyplot as plt\n",
    "\n",
    "sample_2 = 500\n",
    "\n",
    "def gen_model_2(prob):\n",
    "    return(np.random.binomial(sample_2, prob))\n",
    "subscribers_2 = list()\n",
    "for p in post_rate:\n",
    "    subscribers_2.append(gen_model_2(p))\n",
    "\n",
    "print('If Method A was used on 500 people the likely number of sign-ups would be:', int(np.median(subscribers_2)))\n",
    "\n",
    "plt.hist (subscribers_2)\n",
    "\n",
    "print('\\nNumber of draws left: %d, Posterior mean: %.3f, Posterior 95%% quantile interval: %.3f-%.3f' % \n",
    "      (len(subscribers_2), np.mean(subscribers_2), np.quantile(subscribers_2, .025), np.quantile(subscribers_2,.975)))"
   ]
  },
  {
   "cell_type": "code",
   "execution_count": 11,
   "id": "3d53f35e",
   "metadata": {},
   "outputs": [
    {
     "name": "stdout",
     "output_type": "stream",
     "text": [
      "There is 0.49402322404371585 probability showing that Method B rate is better than Method A rate.\n",
      "\n",
      "Number of draws left: 5089, Posterior mean: 0.307, Posterior median: 4.000, \n",
      "Posterior 95% quantile interval: 0.169-0.460\n"
     ]
    },
    {
     "data": {
      "image/png": "[encoded data removed]",
      "text/plain": [
       "<Figure size 432x288 with 1 Axes>"
      ]
     },
     "metadata": {
      "needs_background": "light"
     },
     "output_type": "display_data"
    }
   ],
   "source": [
    "observed_data_B = 10\n",
    "post_rate_B = prior_rate[list(map(lambda x: x == observed_data_B, subscribers))]\n",
    "# Posterior rate for subscription in Method B.\n",
    "\n",
    "dif_rate = post_rate_B.subtract(post_rate, fill_value = 0)\n",
    "print('There is', sum(dif_rate > 0) / len(dif_rate), 'probability showing that Method B rate is better than Method A rate.')\n",
    "# Comparing two Methods by substracting rates.\n",
    "\n",
    "informed_prior = pd.Series(np.random.beta(5, 15, size = n_draw))\n",
    "subscribers_3 = pd.Series([np.random.binomial(n = sample, p = p) for p in informed_prior])\n",
    "post_rate_A3 = informed_prior[list(map(lambda x: x == observed_data, subscribers_3))]\n",
    "post_rate_B3 = informed_prior[list(map(lambda x: x == observed_data_B, subscribers_3))]\n",
    "# Making distributions of probability rates for both Methods based on CEO's 5-15% subscription rates.\n",
    "\n",
    "post_rate_A3.hist()\n",
    "\n",
    "print('\\nNumber of draws left: %d, Posterior mean: %.3f, Posterior median: %.3f, \\nPosterior 95%% quantile interval: %.3f-%.3f' % \n",
    "      (len(post_rate_A3), np.mean(post_rate_A3), np.median(subscribers_3), np.quantile(post_rate_A3, .025), np.quantile(post_rate_A3,.975)))"
   ]
  },
  {
   "cell_type": "code",
   "execution_count": 5,
   "id": "29101601",
   "metadata": {},
   "outputs": [
    {
     "name": "stdout",
     "output_type": "stream",
     "text": [
      "Number of draws left: 2893, Posterior mean: -46.801, Posterior median: -45.064, \n",
      "Posterior 95% quantile interval: -358.737-247.575\n"
     ]
    },
    {
     "data": {
      "image/png": "[encoded data removed]",
      "text/plain": [
       "<Figure size 432x288 with 1 Axes>"
      ]
     },
     "metadata": {
      "needs_background": "light"
     },
     "output_type": "display_data"
    }
   ],
   "source": [
    "# cost of sending brochure = 30 kr\n",
    "# cost of sending brochure and salmon = 300 kr\n",
    "# average profit for subscription = 1000 kr\n",
    "\n",
    "profit_A = list(map(lambda a: a * 1000 - 30, post_rate))\n",
    "profit_B = list(map(lambda b: b * 1000 - 300, post_rate_B))\n",
    "# Converting every subscription probability into profit - cost sum.\n",
    "    \n",
    "dif_profit = [profit_B[i] - profit_A[i] for i in range(min(len(profit_B), len(profit_A)))]\n",
    "# Substracting sums of Method A from sums of Method B and making a histogram from the result.\n",
    "\n",
    "plt.hist(dif_profit)\n",
    "print('Number of draws left: %d, Posterior mean: %.3f, Posterior median: %.3f, \\nPosterior 95%% quantile interval: %.3f-%.3f' % \n",
    "      (len(dif_profit), np.mean(dif_profit), np.median(dif_profit), np.quantile(dif_profit, .025), np.quantile(dif_profit,.975)))\n",
    "# We can see that graph shows that Method A is more efficient in overall cost/profit measures."
   ]
  }
 ],
 "metadata": {
  "kernelspec": {
   "display_name": "Python 3 (ipykernel)",
   "language": "python",
   "name": "python3"
  },
  "language_info": {
   "codemirror_mode": {
    "name": "ipython",
    "version": 3
   },
   "file_extension": ".py",
   "mimetype": "text/x-python",
   "name": "python",
   "nbconvert_exporter": "python",
   "pygments_lexer": "ipython3",
   "version": "3.9.12"
  }
 },
 "nbformat": 4,
 "nbformat_minor": 5
}
